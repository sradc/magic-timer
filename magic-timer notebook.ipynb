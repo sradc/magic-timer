{
 "cells": [
  {
   "cell_type": "markdown",
   "metadata": {},
   "source": [
    "# Magic Timer"
   ]
  },
  {
   "cell_type": "code",
   "execution_count": 1,
   "metadata": {},
   "outputs": [],
   "source": [
    "import time\n",
    "\n",
    "def expensive_computation():\n",
    "    time.sleep(0.5)"
   ]
  },
  {
   "cell_type": "code",
   "execution_count": 2,
   "metadata": {},
   "outputs": [
    {
     "name": "stdout",
     "output_type": "stream",
     "text": [
      "Epoch 0, elapsed time 510 milliseconds\n",
      "Epoch 1, elapsed time 1.1 seconds\n",
      "Epoch 2, elapsed time 1.6 seconds\n",
      "timer.str_history = [0.5051275840000001, 1.0064873749999999, 1.5107924169999998]\n"
     ]
    }
   ],
   "source": [
    "from magic_timer import MagicTimer\n",
    "\n",
    "timer = MagicTimer(history=True)\n",
    "for i in range(3):\n",
    "    expensive_computation()\n",
    "    print(f\"Epoch {i}, elapsed time {timer}\")\n",
    "\n",
    "print(\"timer.str_history =\", timer.str_history)"
   ]
  },
  {
   "cell_type": "code",
   "execution_count": 3,
   "metadata": {},
   "outputs": [
    {
     "name": "stdout",
     "output_type": "stream",
     "text": [
      "Stuff took 210 milliseconds\n"
     ]
    }
   ],
   "source": [
    "from magic_timer import MagicTimer\n",
    "\n",
    "def do_stuff():\n",
    "    [i*i for i in range(5_000_000)]\n",
    "\n",
    "timer = MagicTimer()\n",
    "do_stuff()\n",
    "print('Stuff took', timer)"
   ]
  },
  {
   "cell_type": "code",
   "execution_count": 4,
   "metadata": {},
   "outputs": [
    {
     "name": "stdout",
     "output_type": "stream",
     "text": [
      "`do_stuff` ran in 800 milliseconds.\n"
     ]
    }
   ],
   "source": [
    "from magic_timer import ftimer\n",
    "\n",
    "@ftimer\n",
    "def do_stuff():\n",
    "    [i*i for i in range(20_000_000)]\n",
    "\n",
    "do_stuff()"
   ]
  }
 ],
 "metadata": {
  "kernelspec": {
   "display_name": "Python 3",
   "language": "python",
   "name": "python3"
  },
  "language_info": {
   "codemirror_mode": {
    "name": "ipython",
    "version": 3
   },
   "file_extension": ".py",
   "mimetype": "text/x-python",
   "name": "python",
   "nbconvert_exporter": "python",
   "pygments_lexer": "ipython3",
   "version": "3.9.2"
  }
 },
 "nbformat": 4,
 "nbformat_minor": 2
}
