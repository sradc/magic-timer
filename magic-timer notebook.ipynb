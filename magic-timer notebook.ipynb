{
 "cells": [
  {
   "cell_type": "markdown",
   "metadata": {},
   "source": [
    "# Magic Timer"
   ]
  },
  {
   "cell_type": "markdown",
   "metadata": {},
   "source": [
    "## Use via `MagicTimer` object:"
   ]
  },
  {
   "cell_type": "code",
   "execution_count": 1,
   "metadata": {},
   "outputs": [
    {
     "name": "stdout",
     "output_type": "stream",
     "text": [
      "Stuff took 469 milliseconds\n"
     ]
    }
   ],
   "source": [
    "from magic_timer import MagicTimer\n",
    "\n",
    "def do_stuff():\n",
    "    [i*i for i in range(5_000_000)]\n",
    "\n",
    "timer = MagicTimer()\n",
    "do_stuff()\n",
    "print('Stuff took', timer)"
   ]
  },
  {
   "cell_type": "markdown",
   "metadata": {},
   "source": [
    "## Use via `ftimer` decorator:"
   ]
  },
  {
   "cell_type": "code",
   "execution_count": 2,
   "metadata": {},
   "outputs": [
    {
     "name": "stdout",
     "output_type": "stream",
     "text": [
      "`do_stuff` ran in 1.9 seconds.\n"
     ]
    }
   ],
   "source": [
    "from magic_timer import ftimer\n",
    "\n",
    "@ftimer\n",
    "def do_stuff():\n",
    "    [i*i for i in range(20_000_000)]\n",
    "\n",
    "do_stuff()"
   ]
  }
 ],
 "metadata": {
  "kernelspec": {
   "display_name": "Python 3",
   "language": "python",
   "name": "python3"
  },
  "language_info": {
   "codemirror_mode": {
    "name": "ipython",
    "version": 3
   },
   "file_extension": ".py",
   "mimetype": "text/x-python",
   "name": "python",
   "nbconvert_exporter": "python",
   "pygments_lexer": "ipython3",
   "version": "3.7.3"
  }
 },
 "nbformat": 4,
 "nbformat_minor": 2
}
